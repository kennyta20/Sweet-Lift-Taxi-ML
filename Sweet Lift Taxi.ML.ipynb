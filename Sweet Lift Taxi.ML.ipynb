{
 "cells": [
  {
   "cell_type": "markdown",
   "metadata": {},
   "source": [
    "# Introducción\n",
    "\n",
    "La compañía Sweet Lift Taxi ha recopilado datos históricos sobre pedidos de taxis en los aeropuertos. Para atraer a más conductores durante las horas pico, necesitamos predecir la cantidad de pedidos de taxis para la próxima hora. Construye un modelo para dicha predicción.\n",
    "\n",
    "La métrica RECM en el conjunto de prueba no debe ser superior a 48.\n",
    "\n",
    "\n",
    "# Descripción de los datos\n",
    "\n",
    "Los datos se almacenan en el archivo `taxi.csv`. \t\n",
    "El número de pedidos está en la columna `num_orders`."
   ]
  },
  {
   "cell_type": "markdown",
   "metadata": {},
   "source": [
    "# Preparación"
   ]
  },
  {
   "cell_type": "code",
   "execution_count": 1,
   "metadata": {},
   "outputs": [],
   "source": [
    "import datetime\n",
    "import os\n",
    "\n",
    "import pandas as pd\n",
    "import seaborn as sns\n",
    "from matplotlib import pyplot as plt\n",
    "from sklearn.linear_model import LinearRegression\n",
    "from sklearn.metrics import mean_squared_error\n",
    "from sklearn.model_selection import GridSearchCV, train_test_split\n",
    "from sklearn.preprocessing import StandardScaler\n",
    "from statsmodels.tsa.seasonal import seasonal_decompose\n",
    "from catboost import CatBoostRegressor\n",
    "from lightgbm import LGBMRegressor\n",
    "\n",
    "sns.set()\n"
   ]
  },
  {
   "cell_type": "code",
   "execution_count": 3,
   "metadata": {},
   "outputs": [],
   "source": [
    "df = pd.read_csv('/datasets/taxi.csv', parse_dates=True, index_col=[0]).sort_index()"
   ]
  },
  {
   "cell_type": "code",
   "execution_count": 4,
   "metadata": {},
   "outputs": [
    {
     "name": "stdout",
     "output_type": "stream",
     "text": [
      "<class 'pandas.core.frame.DataFrame'>\n",
      "DatetimeIndex: 26496 entries, 2018-03-01 00:00:00 to 2018-08-31 23:50:00\n",
      "Data columns (total 1 columns):\n",
      " #   Column      Non-Null Count  Dtype\n",
      "---  ------      --------------  -----\n",
      " 0   num_orders  26496 non-null  int64\n",
      "dtypes: int64(1)\n",
      "memory usage: 414.0 KB\n"
     ]
    }
   ],
   "source": [
    "df.info()"
   ]
  },
  {
   "cell_type": "code",
   "execution_count": 5,
   "metadata": {},
   "outputs": [
    {
     "data": {
      "text/html": [
       "<div>\n",
       "<style scoped>\n",
       "    .dataframe tbody tr th:only-of-type {\n",
       "        vertical-align: middle;\n",
       "    }\n",
       "\n",
       "    .dataframe tbody tr th {\n",
       "        vertical-align: top;\n",
       "    }\n",
       "\n",
       "    .dataframe thead th {\n",
       "        text-align: right;\n",
       "    }\n",
       "</style>\n",
       "<table border=\"1\" class=\"dataframe\">\n",
       "  <thead>\n",
       "    <tr style=\"text-align: right;\">\n",
       "      <th></th>\n",
       "      <th>num_orders</th>\n",
       "    </tr>\n",
       "  </thead>\n",
       "  <tbody>\n",
       "    <tr>\n",
       "      <th>count</th>\n",
       "      <td>26496.000000</td>\n",
       "    </tr>\n",
       "    <tr>\n",
       "      <th>mean</th>\n",
       "      <td>14.070463</td>\n",
       "    </tr>\n",
       "    <tr>\n",
       "      <th>std</th>\n",
       "      <td>9.211330</td>\n",
       "    </tr>\n",
       "    <tr>\n",
       "      <th>min</th>\n",
       "      <td>0.000000</td>\n",
       "    </tr>\n",
       "    <tr>\n",
       "      <th>25%</th>\n",
       "      <td>8.000000</td>\n",
       "    </tr>\n",
       "    <tr>\n",
       "      <th>50%</th>\n",
       "      <td>13.000000</td>\n",
       "    </tr>\n",
       "    <tr>\n",
       "      <th>75%</th>\n",
       "      <td>19.000000</td>\n",
       "    </tr>\n",
       "    <tr>\n",
       "      <th>max</th>\n",
       "      <td>119.000000</td>\n",
       "    </tr>\n",
       "  </tbody>\n",
       "</table>\n",
       "</div>"
      ],
      "text/plain": [
       "         num_orders\n",
       "count  26496.000000\n",
       "mean      14.070463\n",
       "std        9.211330\n",
       "min        0.000000\n",
       "25%        8.000000\n",
       "50%       13.000000\n",
       "75%       19.000000\n",
       "max      119.000000"
      ]
     },
     "execution_count": 5,
     "metadata": {},
     "output_type": "execute_result"
    }
   ],
   "source": [
    "df.describe()"
   ]
  },
  {
   "cell_type": "code",
   "execution_count": 6,
   "metadata": {},
   "outputs": [
    {
     "data": {
      "text/html": [
       "<div>\n",
       "<style scoped>\n",
       "    .dataframe tbody tr th:only-of-type {\n",
       "        vertical-align: middle;\n",
       "    }\n",
       "\n",
       "    .dataframe tbody tr th {\n",
       "        vertical-align: top;\n",
       "    }\n",
       "\n",
       "    .dataframe thead th {\n",
       "        text-align: right;\n",
       "    }\n",
       "</style>\n",
       "<table border=\"1\" class=\"dataframe\">\n",
       "  <thead>\n",
       "    <tr style=\"text-align: right;\">\n",
       "      <th></th>\n",
       "      <th>num_orders</th>\n",
       "    </tr>\n",
       "    <tr>\n",
       "      <th>datetime</th>\n",
       "      <th></th>\n",
       "    </tr>\n",
       "  </thead>\n",
       "  <tbody>\n",
       "    <tr>\n",
       "      <th>2018-03-01 00:00:00</th>\n",
       "      <td>9</td>\n",
       "    </tr>\n",
       "    <tr>\n",
       "      <th>2018-03-01 00:10:00</th>\n",
       "      <td>14</td>\n",
       "    </tr>\n",
       "    <tr>\n",
       "      <th>2018-03-01 00:20:00</th>\n",
       "      <td>28</td>\n",
       "    </tr>\n",
       "    <tr>\n",
       "      <th>2018-03-01 00:30:00</th>\n",
       "      <td>20</td>\n",
       "    </tr>\n",
       "    <tr>\n",
       "      <th>2018-03-01 00:40:00</th>\n",
       "      <td>32</td>\n",
       "    </tr>\n",
       "  </tbody>\n",
       "</table>\n",
       "</div>"
      ],
      "text/plain": [
       "                     num_orders\n",
       "datetime                       \n",
       "2018-03-01 00:00:00           9\n",
       "2018-03-01 00:10:00          14\n",
       "2018-03-01 00:20:00          28\n",
       "2018-03-01 00:30:00          20\n",
       "2018-03-01 00:40:00          32"
      ]
     },
     "execution_count": 6,
     "metadata": {},
     "output_type": "execute_result"
    }
   ],
   "source": [
    "df.head()"
   ]
  },
  {
   "cell_type": "markdown",
   "metadata": {},
   "source": [
    "El análisis del DataFrame df muestra que contiene 26,496 registros con un índice basado en un rango de fechas y horas desde el 1 de marzo de 2018 hasta el 31 de agosto de 2018, con datos recolectados en intervalos de 10 minutos. La única columna relevante, num_orders, indica la cantidad de pedidos de taxis realizados en cada intervalo. Según el análisis estadístico (describe), el promedio de pedidos es 14.07 con una desviación estándar de 9.21, mostrando cierta variabilidad en los datos. El número mínimo de pedidos es 0 y el máximo es 119, mientras que los percentiles sugieren que la mayoría de los valores están entre 8 y 19 pedidos. Esto sugiere una distribución asimétrica con posibles picos de demanda en ciertos intervalos."
   ]
  },
  {
   "cell_type": "markdown",
   "metadata": {},
   "source": [
    "# Análisis visual de datos"
   ]
  },
  {
   "cell_type": "code",
   "execution_count": 7,
   "metadata": {},
   "outputs": [
    {
     "data": {
      "text/html": [
       "<div>\n",
       "<style scoped>\n",
       "    .dataframe tbody tr th:only-of-type {\n",
       "        vertical-align: middle;\n",
       "    }\n",
       "\n",
       "    .dataframe tbody tr th {\n",
       "        vertical-align: top;\n",
       "    }\n",
       "\n",
       "    .dataframe thead th {\n",
       "        text-align: right;\n",
       "    }\n",
       "</style>\n",
       "<table border=\"1\" class=\"dataframe\">\n",
       "  <thead>\n",
       "    <tr style=\"text-align: right;\">\n",
       "      <th></th>\n",
       "      <th>num_orders</th>\n",
       "    </tr>\n",
       "    <tr>\n",
       "      <th>datetime</th>\n",
       "      <th></th>\n",
       "    </tr>\n",
       "  </thead>\n",
       "  <tbody>\n",
       "    <tr>\n",
       "      <th>2018-03-01 00:00:00</th>\n",
       "      <td>124</td>\n",
       "    </tr>\n",
       "    <tr>\n",
       "      <th>2018-03-01 01:00:00</th>\n",
       "      <td>85</td>\n",
       "    </tr>\n",
       "    <tr>\n",
       "      <th>2018-03-01 02:00:00</th>\n",
       "      <td>71</td>\n",
       "    </tr>\n",
       "    <tr>\n",
       "      <th>2018-03-01 03:00:00</th>\n",
       "      <td>66</td>\n",
       "    </tr>\n",
       "    <tr>\n",
       "      <th>2018-03-01 04:00:00</th>\n",
       "      <td>43</td>\n",
       "    </tr>\n",
       "  </tbody>\n",
       "</table>\n",
       "</div>"
      ],
      "text/plain": [
       "                     num_orders\n",
       "datetime                       \n",
       "2018-03-01 00:00:00         124\n",
       "2018-03-01 01:00:00          85\n",
       "2018-03-01 02:00:00          71\n",
       "2018-03-01 03:00:00          66\n",
       "2018-03-01 04:00:00          43"
      ]
     },
     "execution_count": 7,
     "metadata": {},
     "output_type": "execute_result"
    }
   ],
   "source": [
    "df = df.resample('1H').sum()\n",
    "df.head()"
   ]
  },
  {
   "cell_type": "code",
   "execution_count": 8,
   "metadata": {},
   "outputs": [
    {
     "data": {
      "text/plain": [
       "<AxesSubplot:xlabel='datetime'>"
      ]
     },
     "execution_count": 8,
     "metadata": {},
     "output_type": "execute_result"
    },
    {
     "data": {
      "image/png": "[encoded data removed]",
      "text/plain": [
       "<Figure size 1500x400 with 1 Axes>"
      ]
     },
     "metadata": {},
     "output_type": "display_data"
    }
   ],
   "source": [
    "fix, ax = plt.subplots(figsize=(15,4))\n",
    "df.plot(ax=ax)"
   ]
  },
  {
   "cell_type": "markdown",
   "metadata": {},
   "source": [
    "El gráfico de líneas muestra la evolución del número de pedidos de taxis en intervalos de 10 minutos desde marzo hasta agosto de 2018. Se observa una tendencia con fluctuaciones constantes, reflejando picos ocasionales de alta demanda que alcanzan hasta 120 pedidos. Sin embargo, estos picos son poco frecuentes en comparación con la mayoría de los datos, que parecen agruparse en niveles más bajos de pedidos, alrededor del promedio calculado previamente (14). Esto sugiere que los datos tienen una cierta estacionalidad o patrones recurrentes que podrían depender de horarios específicos o días de la semana, lo cual es importante considerar en el modelado predictivo."
   ]
  },
  {
   "cell_type": "code",
   "execution_count": 9,
   "metadata": {},
   "outputs": [
    {
     "data": {
      "text/plain": [
       "<AxesSubplot:>"
      ]
     },
     "execution_count": 9,
     "metadata": {},
     "output_type": "execute_result"
    },
    {
     "data": {
      "image/png": "[encoded data removed]",
      "text/plain": [
       "<Figure size 640x480 with 1 Axes>"
      ]
     },
     "metadata": {},
     "output_type": "display_data"
    }
   ],
   "source": [
    "df.plot.box()"
   ]
  },
  {
   "cell_type": "markdown",
   "metadata": {},
   "source": [
    "El boxplot del número de pedidos (num_orders) revela una distribución con una mediana cercana a 13 y un rango intercuartílico (IQR) que se extiende aproximadamente entre 8 y 19 pedidos. Sin embargo, hay una presencia significativa de valores atípicos que se extienden más allá del límite superior (alrededor de 40 pedidos) hasta un máximo de 119. Esto indica que existen picos de alta demanda que no son comunes y podrían estar relacionados con eventos o patrones específicos, como horarios de mayor tráfico. Estos outliers son importantes para el análisis, ya que pueden influir significativamente en el rendimiento de los modelos predictivos."
   ]
  },
  {
   "cell_type": "markdown",
   "metadata": {},
   "source": [
    "Una vez analisados los datos en generales, procedemos a remuestréalos de tal forma que cada punto de datos de los datos originales caigan dentro de intervalos de una hora."
   ]
  },
  {
   "cell_type": "code",
   "execution_count": 10,
   "metadata": {},
   "outputs": [
    {
     "data": {
      "text/html": [
       "<div>\n",
       "<style scoped>\n",
       "    .dataframe tbody tr th:only-of-type {\n",
       "        vertical-align: middle;\n",
       "    }\n",
       "\n",
       "    .dataframe tbody tr th {\n",
       "        vertical-align: top;\n",
       "    }\n",
       "\n",
       "    .dataframe thead th {\n",
       "        text-align: right;\n",
       "    }\n",
       "</style>\n",
       "<table border=\"1\" class=\"dataframe\">\n",
       "  <thead>\n",
       "    <tr style=\"text-align: right;\">\n",
       "      <th></th>\n",
       "      <th>num_orders</th>\n",
       "    </tr>\n",
       "    <tr>\n",
       "      <th>datetime</th>\n",
       "      <th></th>\n",
       "    </tr>\n",
       "  </thead>\n",
       "  <tbody>\n",
       "    <tr>\n",
       "      <th>2018-03-01</th>\n",
       "      <td>1364</td>\n",
       "    </tr>\n",
       "    <tr>\n",
       "      <th>2018-03-02</th>\n",
       "      <td>1506</td>\n",
       "    </tr>\n",
       "    <tr>\n",
       "      <th>2018-03-03</th>\n",
       "      <td>1290</td>\n",
       "    </tr>\n",
       "    <tr>\n",
       "      <th>2018-03-04</th>\n",
       "      <td>1141</td>\n",
       "    </tr>\n",
       "    <tr>\n",
       "      <th>2018-03-05</th>\n",
       "      <td>1259</td>\n",
       "    </tr>\n",
       "  </tbody>\n",
       "</table>\n",
       "</div>"
      ],
      "text/plain": [
       "            num_orders\n",
       "datetime              \n",
       "2018-03-01        1364\n",
       "2018-03-02        1506\n",
       "2018-03-03        1290\n",
       "2018-03-04        1141\n",
       "2018-03-05        1259"
      ]
     },
     "execution_count": 10,
     "metadata": {},
     "output_type": "execute_result"
    }
   ],
   "source": [
    "df_day = df.resample('1D').sum()\n",
    "df_day.head()"
   ]
  },
  {
   "cell_type": "code",
   "execution_count": 11,
   "metadata": {},
   "outputs": [
    {
     "data": {
      "text/plain": [
       "<AxesSubplot:xlabel='datetime'>"
      ]
     },
     "execution_count": 11,
     "metadata": {},
     "output_type": "execute_result"
    },
    {
     "data": {
      "image/png": "[encoded data removed]",
      "text/plain": [
       "<Figure size 1500x400 with 1 Axes>"
      ]
     },
     "metadata": {},
     "output_type": "display_data"
    }
   ],
   "source": [
    "fix, ax = plt.subplots(figsize=(15,4))\n",
    "df_day.plot(ax=ax)"
   ]
  },
  {
   "cell_type": "markdown",
   "metadata": {},
   "source": [
    "El remuestreo de los datos en intervalos diarios muestra una suma total de pedidos por día, lo que permite identificar patrones más claros de tendencia a lo largo del tiempo. El gráfico de líneas resultante sugiere un incremento progresivo en el número total de pedidos diarios desde marzo hasta agosto de 2018, con fluctuaciones notorias entre días."
   ]
  },
  {
   "cell_type": "code",
   "execution_count": 12,
   "metadata": {},
   "outputs": [
    {
     "data": {
      "text/plain": [
       "<AxesSubplot:>"
      ]
     },
     "execution_count": 12,
     "metadata": {},
     "output_type": "execute_result"
    },
    {
     "data": {
      "image/png": "[encoded data removed]",
      "text/plain": [
       "<Figure size 640x480 with 1 Axes>"
      ]
     },
     "metadata": {},
     "output_type": "display_data"
    }
   ],
   "source": [
    "df_day.plot.box()"
   ]
  },
  {
   "cell_type": "markdown",
   "metadata": {},
   "source": [
    "El boxplot de los datos remuestreados a intervalos diarios muestra que la mediana del número de pedidos diarios se encuentra alrededor de 2000, con un rango intercuartílico que abarca entre aproximadamente 1500 y 2500 pedidos. Sin embargo, hay varios valores atípicos que superan los 3500 pedidos, alcanzando un máximo cercano a 4000. Estos valores representan días de alta demanda que podrían estar asociados con eventos específicos o patrones estacionales."
   ]
  },
  {
   "cell_type": "markdown",
   "metadata": {},
   "source": [
    "# Formación"
   ]
  },
  {
   "cell_type": "markdown",
   "metadata": {},
   "source": [
    "# Creación de características."
   ]
  },
  {
   "cell_type": "code",
   "execution_count": 13,
   "metadata": {},
   "outputs": [
    {
     "data": {
      "text/html": [
       "<div>\n",
       "<style scoped>\n",
       "    .dataframe tbody tr th:only-of-type {\n",
       "        vertical-align: middle;\n",
       "    }\n",
       "\n",
       "    .dataframe tbody tr th {\n",
       "        vertical-align: top;\n",
       "    }\n",
       "\n",
       "    .dataframe thead th {\n",
       "        text-align: right;\n",
       "    }\n",
       "</style>\n",
       "<table border=\"1\" class=\"dataframe\">\n",
       "  <thead>\n",
       "    <tr style=\"text-align: right;\">\n",
       "      <th></th>\n",
       "      <th>num_orders</th>\n",
       "      <th>hour</th>\n",
       "      <th>day</th>\n",
       "      <th>dayofweek</th>\n",
       "      <th>week</th>\n",
       "      <th>month</th>\n",
       "      <th>lag_1</th>\n",
       "      <th>lag_2</th>\n",
       "      <th>lag_3</th>\n",
       "      <th>rolling_mean</th>\n",
       "    </tr>\n",
       "    <tr>\n",
       "      <th>datetime</th>\n",
       "      <th></th>\n",
       "      <th></th>\n",
       "      <th></th>\n",
       "      <th></th>\n",
       "      <th></th>\n",
       "      <th></th>\n",
       "      <th></th>\n",
       "      <th></th>\n",
       "      <th></th>\n",
       "      <th></th>\n",
       "    </tr>\n",
       "  </thead>\n",
       "  <tbody>\n",
       "    <tr>\n",
       "      <th>2018-03-01 00:00:00</th>\n",
       "      <td>124</td>\n",
       "      <td>0</td>\n",
       "      <td>1</td>\n",
       "      <td>3</td>\n",
       "      <td>9</td>\n",
       "      <td>3</td>\n",
       "      <td>NaN</td>\n",
       "      <td>NaN</td>\n",
       "      <td>NaN</td>\n",
       "      <td>NaN</td>\n",
       "    </tr>\n",
       "    <tr>\n",
       "      <th>2018-03-01 01:00:00</th>\n",
       "      <td>85</td>\n",
       "      <td>1</td>\n",
       "      <td>1</td>\n",
       "      <td>3</td>\n",
       "      <td>9</td>\n",
       "      <td>3</td>\n",
       "      <td>124.0</td>\n",
       "      <td>NaN</td>\n",
       "      <td>NaN</td>\n",
       "      <td>NaN</td>\n",
       "    </tr>\n",
       "    <tr>\n",
       "      <th>2018-03-01 02:00:00</th>\n",
       "      <td>71</td>\n",
       "      <td>2</td>\n",
       "      <td>1</td>\n",
       "      <td>3</td>\n",
       "      <td>9</td>\n",
       "      <td>3</td>\n",
       "      <td>85.0</td>\n",
       "      <td>124.0</td>\n",
       "      <td>NaN</td>\n",
       "      <td>104.5</td>\n",
       "    </tr>\n",
       "    <tr>\n",
       "      <th>2018-03-01 03:00:00</th>\n",
       "      <td>66</td>\n",
       "      <td>3</td>\n",
       "      <td>1</td>\n",
       "      <td>3</td>\n",
       "      <td>9</td>\n",
       "      <td>3</td>\n",
       "      <td>71.0</td>\n",
       "      <td>85.0</td>\n",
       "      <td>124.0</td>\n",
       "      <td>78.0</td>\n",
       "    </tr>\n",
       "    <tr>\n",
       "      <th>2018-03-01 04:00:00</th>\n",
       "      <td>43</td>\n",
       "      <td>4</td>\n",
       "      <td>1</td>\n",
       "      <td>3</td>\n",
       "      <td>9</td>\n",
       "      <td>3</td>\n",
       "      <td>66.0</td>\n",
       "      <td>71.0</td>\n",
       "      <td>85.0</td>\n",
       "      <td>68.5</td>\n",
       "    </tr>\n",
       "    <tr>\n",
       "      <th>2018-03-01 05:00:00</th>\n",
       "      <td>6</td>\n",
       "      <td>5</td>\n",
       "      <td>1</td>\n",
       "      <td>3</td>\n",
       "      <td>9</td>\n",
       "      <td>3</td>\n",
       "      <td>43.0</td>\n",
       "      <td>66.0</td>\n",
       "      <td>71.0</td>\n",
       "      <td>54.5</td>\n",
       "    </tr>\n",
       "    <tr>\n",
       "      <th>2018-03-01 06:00:00</th>\n",
       "      <td>12</td>\n",
       "      <td>6</td>\n",
       "      <td>1</td>\n",
       "      <td>3</td>\n",
       "      <td>9</td>\n",
       "      <td>3</td>\n",
       "      <td>6.0</td>\n",
       "      <td>43.0</td>\n",
       "      <td>66.0</td>\n",
       "      <td>24.5</td>\n",
       "    </tr>\n",
       "    <tr>\n",
       "      <th>2018-03-01 07:00:00</th>\n",
       "      <td>15</td>\n",
       "      <td>7</td>\n",
       "      <td>1</td>\n",
       "      <td>3</td>\n",
       "      <td>9</td>\n",
       "      <td>3</td>\n",
       "      <td>12.0</td>\n",
       "      <td>6.0</td>\n",
       "      <td>43.0</td>\n",
       "      <td>9.0</td>\n",
       "    </tr>\n",
       "    <tr>\n",
       "      <th>2018-03-01 08:00:00</th>\n",
       "      <td>34</td>\n",
       "      <td>8</td>\n",
       "      <td>1</td>\n",
       "      <td>3</td>\n",
       "      <td>9</td>\n",
       "      <td>3</td>\n",
       "      <td>15.0</td>\n",
       "      <td>12.0</td>\n",
       "      <td>6.0</td>\n",
       "      <td>13.5</td>\n",
       "    </tr>\n",
       "    <tr>\n",
       "      <th>2018-03-01 09:00:00</th>\n",
       "      <td>69</td>\n",
       "      <td>9</td>\n",
       "      <td>1</td>\n",
       "      <td>3</td>\n",
       "      <td>9</td>\n",
       "      <td>3</td>\n",
       "      <td>34.0</td>\n",
       "      <td>15.0</td>\n",
       "      <td>12.0</td>\n",
       "      <td>24.5</td>\n",
       "    </tr>\n",
       "    <tr>\n",
       "      <th>2018-03-01 10:00:00</th>\n",
       "      <td>64</td>\n",
       "      <td>10</td>\n",
       "      <td>1</td>\n",
       "      <td>3</td>\n",
       "      <td>9</td>\n",
       "      <td>3</td>\n",
       "      <td>69.0</td>\n",
       "      <td>34.0</td>\n",
       "      <td>15.0</td>\n",
       "      <td>51.5</td>\n",
       "    </tr>\n",
       "    <tr>\n",
       "      <th>2018-03-01 11:00:00</th>\n",
       "      <td>96</td>\n",
       "      <td>11</td>\n",
       "      <td>1</td>\n",
       "      <td>3</td>\n",
       "      <td>9</td>\n",
       "      <td>3</td>\n",
       "      <td>64.0</td>\n",
       "      <td>69.0</td>\n",
       "      <td>34.0</td>\n",
       "      <td>66.5</td>\n",
       "    </tr>\n",
       "    <tr>\n",
       "      <th>2018-03-01 12:00:00</th>\n",
       "      <td>30</td>\n",
       "      <td>12</td>\n",
       "      <td>1</td>\n",
       "      <td>3</td>\n",
       "      <td>9</td>\n",
       "      <td>3</td>\n",
       "      <td>96.0</td>\n",
       "      <td>64.0</td>\n",
       "      <td>69.0</td>\n",
       "      <td>80.0</td>\n",
       "    </tr>\n",
       "    <tr>\n",
       "      <th>2018-03-01 13:00:00</th>\n",
       "      <td>32</td>\n",
       "      <td>13</td>\n",
       "      <td>1</td>\n",
       "      <td>3</td>\n",
       "      <td>9</td>\n",
       "      <td>3</td>\n",
       "      <td>30.0</td>\n",
       "      <td>96.0</td>\n",
       "      <td>64.0</td>\n",
       "      <td>63.0</td>\n",
       "    </tr>\n",
       "    <tr>\n",
       "      <th>2018-03-01 14:00:00</th>\n",
       "      <td>48</td>\n",
       "      <td>14</td>\n",
       "      <td>1</td>\n",
       "      <td>3</td>\n",
       "      <td>9</td>\n",
       "      <td>3</td>\n",
       "      <td>32.0</td>\n",
       "      <td>30.0</td>\n",
       "      <td>96.0</td>\n",
       "      <td>31.0</td>\n",
       "    </tr>\n",
       "    <tr>\n",
       "      <th>2018-03-01 15:00:00</th>\n",
       "      <td>66</td>\n",
       "      <td>15</td>\n",
       "      <td>1</td>\n",
       "      <td>3</td>\n",
       "      <td>9</td>\n",
       "      <td>3</td>\n",
       "      <td>48.0</td>\n",
       "      <td>32.0</td>\n",
       "      <td>30.0</td>\n",
       "      <td>40.0</td>\n",
       "    </tr>\n",
       "    <tr>\n",
       "      <th>2018-03-01 16:00:00</th>\n",
       "      <td>43</td>\n",
       "      <td>16</td>\n",
       "      <td>1</td>\n",
       "      <td>3</td>\n",
       "      <td>9</td>\n",
       "      <td>3</td>\n",
       "      <td>66.0</td>\n",
       "      <td>48.0</td>\n",
       "      <td>32.0</td>\n",
       "      <td>57.0</td>\n",
       "    </tr>\n",
       "    <tr>\n",
       "      <th>2018-03-01 17:00:00</th>\n",
       "      <td>44</td>\n",
       "      <td>17</td>\n",
       "      <td>1</td>\n",
       "      <td>3</td>\n",
       "      <td>9</td>\n",
       "      <td>3</td>\n",
       "      <td>43.0</td>\n",
       "      <td>66.0</td>\n",
       "      <td>48.0</td>\n",
       "      <td>54.5</td>\n",
       "    </tr>\n",
       "    <tr>\n",
       "      <th>2018-03-01 18:00:00</th>\n",
       "      <td>73</td>\n",
       "      <td>18</td>\n",
       "      <td>1</td>\n",
       "      <td>3</td>\n",
       "      <td>9</td>\n",
       "      <td>3</td>\n",
       "      <td>44.0</td>\n",
       "      <td>43.0</td>\n",
       "      <td>66.0</td>\n",
       "      <td>43.5</td>\n",
       "    </tr>\n",
       "    <tr>\n",
       "      <th>2018-03-01 19:00:00</th>\n",
       "      <td>45</td>\n",
       "      <td>19</td>\n",
       "      <td>1</td>\n",
       "      <td>3</td>\n",
       "      <td>9</td>\n",
       "      <td>3</td>\n",
       "      <td>73.0</td>\n",
       "      <td>44.0</td>\n",
       "      <td>43.0</td>\n",
       "      <td>58.5</td>\n",
       "    </tr>\n",
       "    <tr>\n",
       "      <th>2018-03-01 20:00:00</th>\n",
       "      <td>61</td>\n",
       "      <td>20</td>\n",
       "      <td>1</td>\n",
       "      <td>3</td>\n",
       "      <td>9</td>\n",
       "      <td>3</td>\n",
       "      <td>45.0</td>\n",
       "      <td>73.0</td>\n",
       "      <td>44.0</td>\n",
       "      <td>59.0</td>\n",
       "    </tr>\n",
       "    <tr>\n",
       "      <th>2018-03-01 21:00:00</th>\n",
       "      <td>66</td>\n",
       "      <td>21</td>\n",
       "      <td>1</td>\n",
       "      <td>3</td>\n",
       "      <td>9</td>\n",
       "      <td>3</td>\n",
       "      <td>61.0</td>\n",
       "      <td>45.0</td>\n",
       "      <td>73.0</td>\n",
       "      <td>53.0</td>\n",
       "    </tr>\n",
       "    <tr>\n",
       "      <th>2018-03-01 22:00:00</th>\n",
       "      <td>113</td>\n",
       "      <td>22</td>\n",
       "      <td>1</td>\n",
       "      <td>3</td>\n",
       "      <td>9</td>\n",
       "      <td>3</td>\n",
       "      <td>66.0</td>\n",
       "      <td>61.0</td>\n",
       "      <td>45.0</td>\n",
       "      <td>63.5</td>\n",
       "    </tr>\n",
       "    <tr>\n",
       "      <th>2018-03-01 23:00:00</th>\n",
       "      <td>58</td>\n",
       "      <td>23</td>\n",
       "      <td>1</td>\n",
       "      <td>3</td>\n",
       "      <td>9</td>\n",
       "      <td>3</td>\n",
       "      <td>113.0</td>\n",
       "      <td>66.0</td>\n",
       "      <td>61.0</td>\n",
       "      <td>89.5</td>\n",
       "    </tr>\n",
       "    <tr>\n",
       "      <th>2018-03-02 00:00:00</th>\n",
       "      <td>90</td>\n",
       "      <td>0</td>\n",
       "      <td>2</td>\n",
       "      <td>4</td>\n",
       "      <td>9</td>\n",
       "      <td>3</td>\n",
       "      <td>58.0</td>\n",
       "      <td>113.0</td>\n",
       "      <td>66.0</td>\n",
       "      <td>85.5</td>\n",
       "    </tr>\n",
       "    <tr>\n",
       "      <th>2018-03-02 01:00:00</th>\n",
       "      <td>120</td>\n",
       "      <td>1</td>\n",
       "      <td>2</td>\n",
       "      <td>4</td>\n",
       "      <td>9</td>\n",
       "      <td>3</td>\n",
       "      <td>90.0</td>\n",
       "      <td>58.0</td>\n",
       "      <td>113.0</td>\n",
       "      <td>74.0</td>\n",
       "    </tr>\n",
       "    <tr>\n",
       "      <th>2018-03-02 02:00:00</th>\n",
       "      <td>75</td>\n",
       "      <td>2</td>\n",
       "      <td>2</td>\n",
       "      <td>4</td>\n",
       "      <td>9</td>\n",
       "      <td>3</td>\n",
       "      <td>120.0</td>\n",
       "      <td>90.0</td>\n",
       "      <td>58.0</td>\n",
       "      <td>105.0</td>\n",
       "    </tr>\n",
       "    <tr>\n",
       "      <th>2018-03-02 03:00:00</th>\n",
       "      <td>64</td>\n",
       "      <td>3</td>\n",
       "      <td>2</td>\n",
       "      <td>4</td>\n",
       "      <td>9</td>\n",
       "      <td>3</td>\n",
       "      <td>75.0</td>\n",
       "      <td>120.0</td>\n",
       "      <td>90.0</td>\n",
       "      <td>97.5</td>\n",
       "    </tr>\n",
       "    <tr>\n",
       "      <th>2018-03-02 04:00:00</th>\n",
       "      <td>20</td>\n",
       "      <td>4</td>\n",
       "      <td>2</td>\n",
       "      <td>4</td>\n",
       "      <td>9</td>\n",
       "      <td>3</td>\n",
       "      <td>64.0</td>\n",
       "      <td>75.0</td>\n",
       "      <td>120.0</td>\n",
       "      <td>69.5</td>\n",
       "    </tr>\n",
       "    <tr>\n",
       "      <th>2018-03-02 05:00:00</th>\n",
       "      <td>11</td>\n",
       "      <td>5</td>\n",
       "      <td>2</td>\n",
       "      <td>4</td>\n",
       "      <td>9</td>\n",
       "      <td>3</td>\n",
       "      <td>20.0</td>\n",
       "      <td>64.0</td>\n",
       "      <td>75.0</td>\n",
       "      <td>42.0</td>\n",
       "    </tr>\n",
       "  </tbody>\n",
       "</table>\n",
       "</div>"
      ],
      "text/plain": [
       "                     num_orders  hour  day  dayofweek  week  month  lag_1  \\\n",
       "datetime                                                                    \n",
       "2018-03-01 00:00:00         124     0    1          3     9      3    NaN   \n",
       "2018-03-01 01:00:00          85     1    1          3     9      3  124.0   \n",
       "2018-03-01 02:00:00          71     2    1          3     9      3   85.0   \n",
       "2018-03-01 03:00:00          66     3    1          3     9      3   71.0   \n",
       "2018-03-01 04:00:00          43     4    1          3     9      3   66.0   \n",
       "2018-03-01 05:00:00           6     5    1          3     9      3   43.0   \n",
       "2018-03-01 06:00:00          12     6    1          3     9      3    6.0   \n",
       "2018-03-01 07:00:00          15     7    1          3     9      3   12.0   \n",
       "2018-03-01 08:00:00          34     8    1          3     9      3   15.0   \n",
       "2018-03-01 09:00:00          69     9    1          3     9      3   34.0   \n",
       "2018-03-01 10:00:00          64    10    1          3     9      3   69.0   \n",
       "2018-03-01 11:00:00          96    11    1          3     9      3   64.0   \n",
       "2018-03-01 12:00:00          30    12    1          3     9      3   96.0   \n",
       "2018-03-01 13:00:00          32    13    1          3     9      3   30.0   \n",
       "2018-03-01 14:00:00          48    14    1          3     9      3   32.0   \n",
       "2018-03-01 15:00:00          66    15    1          3     9      3   48.0   \n",
       "2018-03-01 16:00:00          43    16    1          3     9      3   66.0   \n",
       "2018-03-01 17:00:00          44    17    1          3     9      3   43.0   \n",
       "2018-03-01 18:00:00          73    18    1          3     9      3   44.0   \n",
       "2018-03-01 19:00:00          45    19    1          3     9      3   73.0   \n",
       "2018-03-01 20:00:00          61    20    1          3     9      3   45.0   \n",
       "2018-03-01 21:00:00          66    21    1          3     9      3   61.0   \n",
       "2018-03-01 22:00:00         113    22    1          3     9      3   66.0   \n",
       "2018-03-01 23:00:00          58    23    1          3     9      3  113.0   \n",
       "2018-03-02 00:00:00          90     0    2          4     9      3   58.0   \n",
       "2018-03-02 01:00:00         120     1    2          4     9      3   90.0   \n",
       "2018-03-02 02:00:00          75     2    2          4     9      3  120.0   \n",
       "2018-03-02 03:00:00          64     3    2          4     9      3   75.0   \n",
       "2018-03-02 04:00:00          20     4    2          4     9      3   64.0   \n",
       "2018-03-02 05:00:00          11     5    2          4     9      3   20.0   \n",
       "\n",
       "                     lag_2  lag_3  rolling_mean  \n",
       "datetime                                         \n",
       "2018-03-01 00:00:00    NaN    NaN           NaN  \n",
       "2018-03-01 01:00:00    NaN    NaN           NaN  \n",
       "2018-03-01 02:00:00  124.0    NaN         104.5  \n",
       "2018-03-01 03:00:00   85.0  124.0          78.0  \n",
       "2018-03-01 04:00:00   71.0   85.0          68.5  \n",
       "2018-03-01 05:00:00   66.0   71.0          54.5  \n",
       "2018-03-01 06:00:00   43.0   66.0          24.5  \n",
       "2018-03-01 07:00:00    6.0   43.0           9.0  \n",
       "2018-03-01 08:00:00   12.0    6.0          13.5  \n",
       "2018-03-01 09:00:00   15.0   12.0          24.5  \n",
       "2018-03-01 10:00:00   34.0   15.0          51.5  \n",
       "2018-03-01 11:00:00   69.0   34.0          66.5  \n",
       "2018-03-01 12:00:00   64.0   69.0          80.0  \n",
       "2018-03-01 13:00:00   96.0   64.0          63.0  \n",
       "2018-03-01 14:00:00   30.0   96.0          31.0  \n",
       "2018-03-01 15:00:00   32.0   30.0          40.0  \n",
       "2018-03-01 16:00:00   48.0   32.0          57.0  \n",
       "2018-03-01 17:00:00   66.0   48.0          54.5  \n",
       "2018-03-01 18:00:00   43.0   66.0          43.5  \n",
       "2018-03-01 19:00:00   44.0   43.0          58.5  \n",
       "2018-03-01 20:00:00   73.0   44.0          59.0  \n",
       "2018-03-01 21:00:00   45.0   73.0          53.0  \n",
       "2018-03-01 22:00:00   61.0   45.0          63.5  \n",
       "2018-03-01 23:00:00   66.0   61.0          89.5  \n",
       "2018-03-02 00:00:00  113.0   66.0          85.5  \n",
       "2018-03-02 01:00:00   58.0  113.0          74.0  \n",
       "2018-03-02 02:00:00   90.0   58.0         105.0  \n",
       "2018-03-02 03:00:00  120.0   90.0          97.5  \n",
       "2018-03-02 04:00:00   75.0  120.0          69.5  \n",
       "2018-03-02 05:00:00   64.0   75.0          42.0  "
      ]
     },
     "execution_count": 13,
     "metadata": {},
     "output_type": "execute_result"
    }
   ],
   "source": [
    "def make_features(data, max_lag, rolling_mean_size):\n",
    "    data['hour'] = data.index.hour\n",
    "    data['day'] = data.index.day\n",
    "    data['dayofweek'] = data.index.dayofweek\n",
    "    data['week'] = data.index.week\n",
    "    data['month'] = data.index.month\n",
    "    \n",
    "    for lag in range(1, max_lag + 1):\n",
    "        data['lag_{}'.format(lag)] = df['num_orders'].shift(lag)\n",
    "    \n",
    "    df['rolling_mean'] = df['num_orders'].shift().rolling(rolling_mean_size).mean()\n",
    "    \n",
    "make_features(df, 3, 2)\n",
    "df.head(30)"
   ]
  },
  {
   "cell_type": "markdown",
   "metadata": {},
   "source": [
    "La función make_features enriquece los datos iniciales al generar nuevas características que capturan patrones temporales y tendencias históricas en los pedidos (num_orders). Las columnas temporales (hour, day, dayofweek, etc.) permiten al modelo detectar variaciones cíclicas y estacionales en la demanda. Las columnas de retraso (lag_1, lag_2, lag_3) incorporan información del comportamiento de los pedidos en periodos previos, lo cual es crucial en series temporales. Finalmente, la media móvil (rolling_mean) suaviza las fluctuaciones a corto plazo, ayudando a capturar tendencias subyacentes. Estas características potencian la capacidad del modelo predictivo para reconocer patrones complejos y mejorar la precisión de las predicciones."
   ]
  },
  {
   "cell_type": "markdown",
   "metadata": {},
   "source": [
    "#  Datasets de entrenamiento y prueba."
   ]
  },
  {
   "cell_type": "code",
   "execution_count": 14,
   "metadata": {},
   "outputs": [],
   "source": [
    "train, test = train_test_split(df, shuffle=False, test_size=0.1)"
   ]
  },
  {
   "cell_type": "code",
   "execution_count": 15,
   "metadata": {},
   "outputs": [
    {
     "name": "stdout",
     "output_type": "stream",
     "text": [
      "2018-03-01 00:00:00 2018-08-13 13:00:00 (3974, 10)\n",
      "2018-08-13 14:00:00 2018-08-31 23:00:00 (442, 10)\n"
     ]
    }
   ],
   "source": [
    "train, test = train_test_split(df, shuffle=False, test_size=0.1)\n",
    "\n",
    "print(train.index.min(), train.index.max(), train.shape)\n",
    "print(test.index.min(), test.index.max(), test.shape)\n"
   ]
  },
  {
   "cell_type": "code",
   "execution_count": 16,
   "metadata": {},
   "outputs": [],
   "source": [
    "features_train = train.drop('num_orders', axis=1)\n",
    "target_train = train['num_orders']\n",
    "\n",
    "features_test = test.drop('num_orders', axis=1)\n",
    "target_test = test['num_orders']\n"
   ]
  },
  {
   "cell_type": "code",
   "execution_count": 17,
   "metadata": {},
   "outputs": [],
   "source": [
    "features_train = features_train.dropna()\n",
    "features_test = features_test.dropna()\n",
    "target_train = target_train.loc[features_train.index]\n",
    "target_test = target_test.loc[features_test.index]"
   ]
  },
  {
   "cell_type": "markdown",
   "metadata": {},
   "source": [
    "Primero, se eliminan las filas con valores NaN en las características usando dropna(). Luego, los objetivos correspondientes se sincronizan filtrando únicamente los índices que aún están presentes en las características utilizando .loc[features_train.index] y .loc[features_test.index]. Este paso garantiza que tanto las características como los objetivos estén alineados y tengan el mismo número de filas, lo cual es esencial para entrenar un modelo sin errores."
   ]
  },
  {
   "cell_type": "markdown",
   "metadata": {},
   "source": [
    "# Estandarización y escalado de características"
   ]
  },
  {
   "cell_type": "code",
   "execution_count": 18,
   "metadata": {},
   "outputs": [
    {
     "data": {
      "text/html": [
       "<div>\n",
       "<style scoped>\n",
       "    .dataframe tbody tr th:only-of-type {\n",
       "        vertical-align: middle;\n",
       "    }\n",
       "\n",
       "    .dataframe tbody tr th {\n",
       "        vertical-align: top;\n",
       "    }\n",
       "\n",
       "    .dataframe thead th {\n",
       "        text-align: right;\n",
       "    }\n",
       "</style>\n",
       "<table border=\"1\" class=\"dataframe\">\n",
       "  <thead>\n",
       "    <tr style=\"text-align: right;\">\n",
       "      <th></th>\n",
       "      <th>hour</th>\n",
       "      <th>day</th>\n",
       "      <th>dayofweek</th>\n",
       "      <th>week</th>\n",
       "      <th>month</th>\n",
       "      <th>lag_1</th>\n",
       "      <th>lag_2</th>\n",
       "      <th>lag_3</th>\n",
       "      <th>rolling_mean</th>\n",
       "    </tr>\n",
       "    <tr>\n",
       "      <th>datetime</th>\n",
       "      <th></th>\n",
       "      <th></th>\n",
       "      <th></th>\n",
       "      <th></th>\n",
       "      <th></th>\n",
       "      <th></th>\n",
       "      <th></th>\n",
       "      <th></th>\n",
       "      <th></th>\n",
       "    </tr>\n",
       "  </thead>\n",
       "  <tbody>\n",
       "    <tr>\n",
       "      <th>2018-03-01 03:00:00</th>\n",
       "      <td>-1.227447</td>\n",
       "      <td>-1.592432</td>\n",
       "      <td>-0.01283</td>\n",
       "      <td>-1.722211</td>\n",
       "      <td>-1.412939</td>\n",
       "      <td>-0.187932</td>\n",
       "      <td>0.174161</td>\n",
       "      <td>1.183080</td>\n",
       "      <td>-0.007790</td>\n",
       "    </tr>\n",
       "    <tr>\n",
       "      <th>2018-03-01 04:00:00</th>\n",
       "      <td>-1.082877</td>\n",
       "      <td>-1.592432</td>\n",
       "      <td>-0.01283</td>\n",
       "      <td>-1.722211</td>\n",
       "      <td>-1.412939</td>\n",
       "      <td>-0.317234</td>\n",
       "      <td>-0.187889</td>\n",
       "      <td>0.174324</td>\n",
       "      <td>-0.285686</td>\n",
       "    </tr>\n",
       "    <tr>\n",
       "      <th>2018-03-01 05:00:00</th>\n",
       "      <td>-0.938306</td>\n",
       "      <td>-1.592432</td>\n",
       "      <td>-0.01283</td>\n",
       "      <td>-1.722211</td>\n",
       "      <td>-1.412939</td>\n",
       "      <td>-0.912023</td>\n",
       "      <td>-0.317192</td>\n",
       "      <td>-0.187794</td>\n",
       "      <td>-0.695217</td>\n",
       "    </tr>\n",
       "    <tr>\n",
       "      <th>2018-03-01 06:00:00</th>\n",
       "      <td>-0.793736</td>\n",
       "      <td>-1.592432</td>\n",
       "      <td>-0.01283</td>\n",
       "      <td>-1.722211</td>\n",
       "      <td>-1.412939</td>\n",
       "      <td>-1.868857</td>\n",
       "      <td>-0.911988</td>\n",
       "      <td>-0.317122</td>\n",
       "      <td>-1.572782</td>\n",
       "    </tr>\n",
       "    <tr>\n",
       "      <th>2018-03-01 07:00:00</th>\n",
       "      <td>-0.649165</td>\n",
       "      <td>-1.592432</td>\n",
       "      <td>-0.01283</td>\n",
       "      <td>-1.722211</td>\n",
       "      <td>-1.412939</td>\n",
       "      <td>-1.713694</td>\n",
       "      <td>-1.868834</td>\n",
       "      <td>-0.912029</td>\n",
       "      <td>-2.026192</td>\n",
       "    </tr>\n",
       "  </tbody>\n",
       "</table>\n",
       "</div>"
      ],
      "text/plain": [
       "                         hour       day  dayofweek      week     month  \\\n",
       "datetime                                                                 \n",
       "2018-03-01 03:00:00 -1.227447 -1.592432   -0.01283 -1.722211 -1.412939   \n",
       "2018-03-01 04:00:00 -1.082877 -1.592432   -0.01283 -1.722211 -1.412939   \n",
       "2018-03-01 05:00:00 -0.938306 -1.592432   -0.01283 -1.722211 -1.412939   \n",
       "2018-03-01 06:00:00 -0.793736 -1.592432   -0.01283 -1.722211 -1.412939   \n",
       "2018-03-01 07:00:00 -0.649165 -1.592432   -0.01283 -1.722211 -1.412939   \n",
       "\n",
       "                        lag_1     lag_2     lag_3  rolling_mean  \n",
       "datetime                                                         \n",
       "2018-03-01 03:00:00 -0.187932  0.174161  1.183080     -0.007790  \n",
       "2018-03-01 04:00:00 -0.317234 -0.187889  0.174324     -0.285686  \n",
       "2018-03-01 05:00:00 -0.912023 -0.317192 -0.187794     -0.695217  \n",
       "2018-03-01 06:00:00 -1.868857 -0.911988 -0.317122     -1.572782  \n",
       "2018-03-01 07:00:00 -1.713694 -1.868834 -0.912029     -2.026192  "
      ]
     },
     "execution_count": 18,
     "metadata": {},
     "output_type": "execute_result"
    }
   ],
   "source": [
    "pd.options.mode.chained_assignment = None\n",
    "\n",
    "columns = features_train.columns\n",
    "\n",
    "scaler = StandardScaler().fit(features_train[columns])\n",
    "\n",
    "features_train[columns] = scaler.transform(features_train[columns])\n",
    "features_test[columns] = scaler.transform(features_test[columns])\n",
    "\n",
    "features_train.head()"
   ]
  },
  {
   "cell_type": "markdown",
   "metadata": {},
   "source": [
    "# Prueba de cordura"
   ]
  },
  {
   "cell_type": "markdown",
   "metadata": {},
   "source": [
    "Nuestra meta es que la métrica RECM en el conjunto de prueba no supere al 48, por ende se realizará un pronóstico que nos sirvira como punto de referencia "
   ]
  },
  {
   "cell_type": "code",
   "execution_count": 19,
   "metadata": {},
   "outputs": [
    {
     "name": "stdout",
     "output_type": "stream",
     "text": [
      "Promedio de pedidos por hora: 139.55656108597285\n",
      "RECM: 58.856486242815066\n"
     ]
    }
   ],
   "source": [
    "print('Promedio de pedidos por hora:', target_test.mean())\n",
    "pred_previous = target_test.shift(fill_value=train.iloc[-1, 0])\n",
    "\n",
    "print('RECM:', mean_squared_error( target_test, pred_previous, squared=False))"
   ]
  },
  {
   "cell_type": "markdown",
   "metadata": {},
   "source": [
    "# Prueba"
   ]
  },
  {
   "cell_type": "markdown",
   "metadata": {},
   "source": [
    "## Modelo de regresión lineal"
   ]
  },
  {
   "cell_type": "code",
   "execution_count": 20,
   "metadata": {},
   "outputs": [
    {
     "name": "stdout",
     "output_type": "stream",
     "text": [
      "RECM para el conjunto de entrenamiento: 30.557889065739936\n",
      "RECM para el conjunto de prueba: 52.58748411954095\n",
      "CPU times: user 18.8 ms, sys: 61.9 ms, total: 80.7 ms\n",
      "Wall time: 30.1 ms\n"
     ]
    }
   ],
   "source": [
    "%%time\n",
    "model_lr = LinearRegression().fit(features_train, target_train)\n",
    "predictions_train = model_lr.predict(features_train)\n",
    "predictions_test = model_lr.predict(features_test)\n",
    "print(\"RECM para el conjunto de entrenamiento:\", mean_squared_error(predictions_train,target_train, squared=False))\n",
    "print(\"RECM para el conjunto de prueba:\", mean_squared_error(predictions_test, target_test, squared=False))"
   ]
  },
  {
   "cell_type": "code",
   "execution_count": 21,
   "metadata": {},
   "outputs": [
    {
     "data": {
      "text/plain": [
       "<matplotlib.legend.Legend at 0x7fab131647c0>"
      ]
     },
     "execution_count": 21,
     "metadata": {},
     "output_type": "execute_result"
    },
    {
     "data": {
      "image/png": "[encoded data removed]",
      "text/plain": [
       "<Figure size 1500x400 with 1 Axes>"
      ]
     },
     "metadata": {},
     "output_type": "display_data"
    }
   ],
   "source": [
    "predictions_test = pd.Series(predictions_test, index=target_test.index)\n",
    "\n",
    "fix, ax = plt.subplots(figsize=(15,4))\n",
    "\n",
    "target_test.plot(ax=ax)\n",
    "predictions_test.plot(ax=ax)\n",
    "\n",
    "plt.legend([\"target\", \"predictions\"])"
   ]
  },
  {
   "cell_type": "markdown",
   "metadata": {},
   "source": [
    "Los resultados muestran que el modelo de regresión lineal logra un RECM de 30.56 en el conjunto de entrenamiento y de 52.59 en el conjunto de prueba. Aunque el modelo se desempeña bien en entrenamiento, el RECM en prueba supera el límite deseado de 48, indicando que no logra generalizar completamente. Sin embargo, el gráfico revela que las predicciones del modelo siguen de cerca los valores reales, especialmente en patrones más regulares, pero se desvía en los picos de demanda, lo que podría ser mejorado ajustando el modelo o utilizando un algoritmo más robusto para manejar la variabilidad de los datos."
   ]
  },
  {
   "cell_type": "markdown",
   "metadata": {},
   "source": [
    "## Modelo 2: LightGBM."
   ]
  },
  {
   "cell_type": "code",
   "execution_count": null,
   "metadata": {},
   "outputs": [],
   "source": [
    "%%time\n",
    "model_lgbm= LGBMRegressor(metric='rmse').fit(features_train, target_train)\n",
    "predictions_train = model_lgbm.predict(features_train)\n",
    "predictions_test = model_lgbm.predict(features_test)\n",
    "\n",
    "print(\"RECM para el conjunto de entrenamiento:\", mean_squared_error(predictions_train,target_train, squared=False))\n",
    "print(\"RECM para el conjunto de prueba:\", mean_squared_error(predictions_test, target_test, squared=False))"
   ]
  },
  {
   "cell_type": "code",
   "execution_count": null,
   "metadata": {},
   "outputs": [],
   "source": [
    "predictions_test = pd.Series(predictions_test, index=target_test.index)\n",
    "\n",
    "fix, ax = plt.subplots(figsize=(15,4))\n",
    "\n",
    "target_test.plot(ax=ax)\n",
    "predictions_test.plot(ax=ax)\n",
    "\n",
    "plt.legend([\"target\", \"predictions\"])"
   ]
  },
  {
   "cell_type": "markdown",
   "metadata": {},
   "source": [
    "El modelo LightGBM demuestra un desempeño notable al obtener un RECM de 15.26 en el conjunto de entrenamiento y 44.73 en el conjunto de prueba, cumpliendo con el objetivo de mantener esta métrica por debajo de 48 en el conjunto de prueba. El gráfico muestra una buena alineación entre las predicciones del modelo y los valores reales, con capacidad para capturar las fluctuaciones y picos de demanda de taxis. Esto sugiere que LightGBM es un modelo adecuado para predecir la cantidad de pedidos, al equilibrar precisión y generalización, logrando un resultado superior respecto a la regresión lineal."
   ]
  },
  {
   "cell_type": "markdown",
   "metadata": {},
   "source": [
    "## Model 3: CatBoost."
   ]
  },
  {
   "cell_type": "code",
   "execution_count": null,
   "metadata": {},
   "outputs": [],
   "source": [
    "%%time\n",
    "model_cb = CatBoostRegressor(iterations=100,\n",
    "                            learning_rate=0.1,\n",
    "                            depth=6,\n",
    "                            loss_function='RMSE',\n",
    "                            verbose=20).fit(features_train, target_train)\n",
    "predictions_train = model_cb.predict(features_train)\n",
    "predictions_test = model_cb.predict(features_test)\n",
    "print(\"RECM para el conjunto de entrenamiento:\", mean_squared_error(predictions_train,target_train, squared=False))\n",
    "print(\"RECM para el conjunto de prueba:\", mean_squared_error(predictions_test, target_test, squared=False))"
   ]
  },
  {
   "cell_type": "code",
   "execution_count": null,
   "metadata": {},
   "outputs": [],
   "source": [
    "predictions_test = pd.Series(predictions_test, index=target_test.index)\n",
    "\n",
    "fix, ax = plt.subplots(figsize=(15,4))\n",
    "\n",
    "target_test.plot(ax=ax)\n",
    "predictions_test.plot(ax=ax)\n",
    "\n",
    "plt.legend([\"target\", \"predictions\"])"
   ]
  },
  {
   "cell_type": "markdown",
   "metadata": {},
   "source": [
    "El modelo CatBoost demostró un buen rendimiento al predecir los pedidos de taxis, con un RMSE de 19.99 en el conjunto de entrenamiento y 45.89 en el conjunto de prueba, lo que está por debajo del umbral objetivo de 48. La gráfica de predicciones muestra que el modelo captura adecuadamente las tendencias generales, aunque persisten ligeras discrepancias en algunos picos de demanda. Esto sugiere que CatBoost es efectivo para manejar las características de los datos temporales y podría beneficiarse de ajustes adicionales para perfeccionar la predicción de valores extremos."
   ]
  },
  {
   "cell_type": "markdown",
   "metadata": {},
   "source": [
    "# Conclusión"
   ]
  },
  {
   "cell_type": "markdown",
   "metadata": {},
   "source": [
    "El análisis de los modelos mostró que LightGBM es la mejor opción para predecir la cantidad de pedidos de taxis en aeropuertos. Con un RECM de 44.73 en el conjunto de prueba, este modelo no solo cumple con el objetivo de mantener el error por debajo de 48, sino que también captura adecuadamente las tendencias y picos de demanda con una notable velocidad de entrenamiento. Aunque CatBoost también cumplió con el requisito al obtener un RECM de 45.89, LightGBM demostró un rendimiento ligeramente superior en precisión y eficiencia. En cambio, la regresión lineal no logró generalizar bien, con un RECM de 52.59. Por lo tanto, LightGBM es el modelo recomendado para este proyecto."
   ]
  }
 ],
 "metadata": {
  "ExecuteTimeLog": [
   {
    "duration": 2632,
    "start_time": "2025-01-09T14:43:12.434Z"
   },
   {
    "duration": 34,
    "start_time": "2025-01-09T14:44:31.818Z"
   },
   {
    "duration": 278,
    "start_time": "2025-01-09T14:45:19.154Z"
   },
   {
    "duration": 21,
    "start_time": "2025-01-09T14:45:53.542Z"
   },
   {
    "duration": 13,
    "start_time": "2025-01-09T14:46:07.052Z"
   },
   {
    "duration": 14,
    "start_time": "2025-01-09T14:46:23.700Z"
   },
   {
    "duration": 11,
    "start_time": "2025-01-09T14:46:31.264Z"
   },
   {
    "duration": 7,
    "start_time": "2025-01-09T14:46:39.407Z"
   },
   {
    "duration": 5,
    "start_time": "2025-01-09T14:54:40.998Z"
   },
   {
    "duration": 2765,
    "start_time": "2025-01-10T13:19:31.622Z"
   },
   {
    "duration": 40,
    "start_time": "2025-01-10T13:19:34.390Z"
   },
   {
    "duration": 9,
    "start_time": "2025-01-10T13:19:34.433Z"
   },
   {
    "duration": 11,
    "start_time": "2025-01-10T13:19:34.444Z"
   },
   {
    "duration": 5,
    "start_time": "2025-01-10T13:19:34.668Z"
   },
   {
    "duration": 7,
    "start_time": "2025-01-10T13:22:59.372Z"
   },
   {
    "duration": 3,
    "start_time": "2025-01-10T13:23:08.401Z"
   },
   {
    "duration": 3,
    "start_time": "2025-01-10T13:23:14.810Z"
   },
   {
    "duration": 21,
    "start_time": "2025-01-10T13:23:14.918Z"
   },
   {
    "duration": 8,
    "start_time": "2025-01-10T13:23:15.115Z"
   },
   {
    "duration": 10,
    "start_time": "2025-01-10T13:23:15.266Z"
   },
   {
    "duration": 6,
    "start_time": "2025-01-10T13:23:15.449Z"
   },
   {
    "duration": 4,
    "start_time": "2025-01-10T13:23:16.388Z"
   },
   {
    "duration": 4,
    "start_time": "2025-01-10T13:23:49.225Z"
   },
   {
    "duration": 644,
    "start_time": "2025-01-10T13:23:49.860Z"
   },
   {
    "duration": 565,
    "start_time": "2025-01-10T13:24:14.855Z"
   },
   {
    "duration": 629,
    "start_time": "2025-01-10T13:28:43.819Z"
   },
   {
    "duration": 93,
    "start_time": "2025-01-10T13:29:33.535Z"
   },
   {
    "duration": 95,
    "start_time": "2025-01-10T13:36:47.718Z"
   },
   {
    "duration": 10,
    "start_time": "2025-01-10T13:45:17.527Z"
   },
   {
    "duration": 254,
    "start_time": "2025-01-10T13:46:35.424Z"
   },
   {
    "duration": 89,
    "start_time": "2025-01-10T13:48:53.156Z"
   },
   {
    "duration": 3,
    "start_time": "2025-01-10T14:14:02.857Z"
   },
   {
    "duration": 249,
    "start_time": "2025-01-10T14:17:54.889Z"
   },
   {
    "duration": 25,
    "start_time": "2025-01-10T14:18:09.776Z"
   },
   {
    "duration": 2786,
    "start_time": "2025-01-13T11:03:02.459Z"
   },
   {
    "duration": 35,
    "start_time": "2025-01-13T11:03:05.248Z"
   },
   {
    "duration": 8,
    "start_time": "2025-01-13T11:03:05.285Z"
   },
   {
    "duration": 12,
    "start_time": "2025-01-13T11:03:05.297Z"
   },
   {
    "duration": 5,
    "start_time": "2025-01-13T11:03:05.311Z"
   },
   {
    "duration": 571,
    "start_time": "2025-01-13T11:03:06.923Z"
   },
   {
    "duration": 87,
    "start_time": "2025-01-13T11:03:07.868Z"
   },
   {
    "duration": 10,
    "start_time": "2025-01-13T11:03:08.515Z"
   },
   {
    "duration": 236,
    "start_time": "2025-01-13T11:03:08.717Z"
   },
   {
    "duration": 87,
    "start_time": "2025-01-13T11:03:09.160Z"
   },
   {
    "duration": 26,
    "start_time": "2025-01-13T11:03:10.008Z"
   },
   {
    "duration": 7,
    "start_time": "2025-01-13T11:03:10.893Z"
   },
   {
    "duration": 302,
    "start_time": "2025-01-13T11:07:25.241Z"
   },
   {
    "duration": 8,
    "start_time": "2025-01-13T11:07:33.349Z"
   },
   {
    "duration": 4,
    "start_time": "2025-01-13T11:07:57.550Z"
   },
   {
    "duration": 6,
    "start_time": "2025-01-13T11:07:58.062Z"
   },
   {
    "duration": 5,
    "start_time": "2025-01-13T11:08:53.892Z"
   },
   {
    "duration": 23,
    "start_time": "2025-01-13T11:09:21.583Z"
   },
   {
    "duration": 4,
    "start_time": "2025-01-13T11:11:26.020Z"
   },
   {
    "duration": 21,
    "start_time": "2025-01-13T11:11:26.200Z"
   },
   {
    "duration": 8,
    "start_time": "2025-01-13T11:11:26.369Z"
   },
   {
    "duration": 9,
    "start_time": "2025-01-13T11:11:26.554Z"
   },
   {
    "duration": 5,
    "start_time": "2025-01-13T11:11:26.754Z"
   },
   {
    "duration": 531,
    "start_time": "2025-01-13T11:11:27.769Z"
   },
   {
    "duration": 88,
    "start_time": "2025-01-13T11:11:28.487Z"
   },
   {
    "duration": 8,
    "start_time": "2025-01-13T11:11:29.336Z"
   },
   {
    "duration": 246,
    "start_time": "2025-01-13T11:11:29.567Z"
   },
   {
    "duration": 87,
    "start_time": "2025-01-13T11:11:30.499Z"
   },
   {
    "duration": 24,
    "start_time": "2025-01-13T11:11:31.942Z"
   },
   {
    "duration": 23,
    "start_time": "2025-01-13T11:12:18.834Z"
   },
   {
    "duration": 15,
    "start_time": "2025-01-13T11:14:16.787Z"
   },
   {
    "duration": 630,
    "start_time": "2025-01-13T11:14:17.337Z"
   },
   {
    "duration": 4,
    "start_time": "2025-01-13T11:14:39.569Z"
   },
   {
    "duration": 20,
    "start_time": "2025-01-13T11:14:40.121Z"
   },
   {
    "duration": 8,
    "start_time": "2025-01-13T11:14:41.323Z"
   },
   {
    "duration": 10,
    "start_time": "2025-01-13T11:14:42.310Z"
   },
   {
    "duration": 5,
    "start_time": "2025-01-13T11:14:43.423Z"
   },
   {
    "duration": 9,
    "start_time": "2025-01-13T11:14:46.862Z"
   },
   {
    "duration": 253,
    "start_time": "2025-01-13T11:14:48.310Z"
   },
   {
    "duration": 86,
    "start_time": "2025-01-13T11:14:52.751Z"
   },
   {
    "duration": 10,
    "start_time": "2025-01-13T11:15:09.405Z"
   },
   {
    "duration": 240,
    "start_time": "2025-01-13T11:15:10.071Z"
   },
   {
    "duration": 87,
    "start_time": "2025-01-13T11:15:11.841Z"
   },
   {
    "duration": 23,
    "start_time": "2025-01-13T11:15:14.046Z"
   },
   {
    "duration": 19,
    "start_time": "2025-01-13T11:15:21.146Z"
   },
   {
    "duration": 5,
    "start_time": "2025-01-13T11:18:31.583Z"
   },
   {
    "duration": 3,
    "start_time": "2025-01-13T11:18:39.110Z"
   },
   {
    "duration": 7,
    "start_time": "2025-01-13T11:18:39.787Z"
   },
   {
    "duration": 5,
    "start_time": "2025-01-13T11:20:39.619Z"
   },
   {
    "duration": 12,
    "start_time": "2025-01-13T11:20:52.019Z"
   },
   {
    "duration": 13,
    "start_time": "2025-01-13T11:24:46.034Z"
   },
   {
    "duration": 13,
    "start_time": "2025-01-13T11:25:03.344Z"
   },
   {
    "duration": 2,
    "start_time": "2025-01-13T11:25:06.173Z"
   },
   {
    "duration": 19,
    "start_time": "2025-01-13T11:37:02.238Z"
   },
   {
    "duration": 17,
    "start_time": "2025-01-13T11:37:20.145Z"
   },
   {
    "duration": 18,
    "start_time": "2025-01-13T11:53:04.373Z"
   },
   {
    "duration": 6,
    "start_time": "2025-01-13T11:53:14.250Z"
   },
   {
    "duration": 4,
    "start_time": "2025-01-13T11:53:38.789Z"
   },
   {
    "duration": 22,
    "start_time": "2025-01-13T11:53:38.935Z"
   },
   {
    "duration": 8,
    "start_time": "2025-01-13T11:53:39.096Z"
   },
   {
    "duration": 10,
    "start_time": "2025-01-13T11:53:39.375Z"
   },
   {
    "duration": 6,
    "start_time": "2025-01-13T11:53:39.843Z"
   },
   {
    "duration": 8,
    "start_time": "2025-01-13T11:53:41.063Z"
   },
   {
    "duration": 257,
    "start_time": "2025-01-13T11:53:41.376Z"
   },
   {
    "duration": 79,
    "start_time": "2025-01-13T11:53:41.837Z"
   },
   {
    "duration": 9,
    "start_time": "2025-01-13T11:53:42.737Z"
   },
   {
    "duration": 244,
    "start_time": "2025-01-13T11:53:42.920Z"
   },
   {
    "duration": 93,
    "start_time": "2025-01-13T11:53:43.355Z"
   },
   {
    "duration": 23,
    "start_time": "2025-01-13T11:53:44.155Z"
   },
   {
    "duration": 4,
    "start_time": "2025-01-13T11:53:45.164Z"
   },
   {
    "duration": 6,
    "start_time": "2025-01-13T11:53:45.375Z"
   },
   {
    "duration": 5,
    "start_time": "2025-01-13T11:53:45.623Z"
   },
   {
    "duration": 4,
    "start_time": "2025-01-13T11:53:46.446Z"
   },
   {
    "duration": 25,
    "start_time": "2025-01-13T11:53:46.876Z"
   },
   {
    "duration": 5,
    "start_time": "2025-01-13T11:53:47.561Z"
   },
   {
    "duration": 5,
    "start_time": "2025-01-13T11:53:47.870Z"
   },
   {
    "duration": 15,
    "start_time": "2025-01-13T11:54:08.721Z"
   },
   {
    "duration": 4,
    "start_time": "2025-01-13T11:55:04.252Z"
   },
   {
    "duration": 5,
    "start_time": "2025-01-13T11:55:05.821Z"
   },
   {
    "duration": 5,
    "start_time": "2025-01-13T11:55:07.973Z"
   },
   {
    "duration": 4,
    "start_time": "2025-01-13T11:55:47.604Z"
   },
   {
    "duration": 22,
    "start_time": "2025-01-13T11:55:48.828Z"
   },
   {
    "duration": 4,
    "start_time": "2025-01-13T11:55:53.170Z"
   },
   {
    "duration": 16,
    "start_time": "2025-01-13T11:57:05.132Z"
   },
   {
    "duration": 4,
    "start_time": "2025-01-13T11:57:10.920Z"
   },
   {
    "duration": 21,
    "start_time": "2025-01-13T11:57:11.086Z"
   },
   {
    "duration": 8,
    "start_time": "2025-01-13T11:57:11.387Z"
   },
   {
    "duration": 10,
    "start_time": "2025-01-13T11:57:11.813Z"
   },
   {
    "duration": 6,
    "start_time": "2025-01-13T11:57:12.103Z"
   },
   {
    "duration": 9,
    "start_time": "2025-01-13T11:57:13.029Z"
   },
   {
    "duration": 359,
    "start_time": "2025-01-13T11:57:13.195Z"
   },
   {
    "duration": 82,
    "start_time": "2025-01-13T11:57:13.762Z"
   },
   {
    "duration": 8,
    "start_time": "2025-01-13T11:57:14.421Z"
   },
   {
    "duration": 242,
    "start_time": "2025-01-13T11:57:14.584Z"
   },
   {
    "duration": 87,
    "start_time": "2025-01-13T11:57:14.970Z"
   },
   {
    "duration": 23,
    "start_time": "2025-01-13T11:57:15.715Z"
   },
   {
    "duration": 4,
    "start_time": "2025-01-13T11:57:16.456Z"
   },
   {
    "duration": 9,
    "start_time": "2025-01-13T11:57:16.706Z"
   },
   {
    "duration": 6,
    "start_time": "2025-01-13T11:57:17.130Z"
   },
   {
    "duration": 4,
    "start_time": "2025-01-13T11:57:17.771Z"
   },
   {
    "duration": 22,
    "start_time": "2025-01-13T11:57:19.206Z"
   },
   {
    "duration": 4,
    "start_time": "2025-01-13T11:57:21.608Z"
   },
   {
    "duration": 12,
    "start_time": "2025-01-13T11:58:20.075Z"
   },
   {
    "duration": 556,
    "start_time": "2025-01-13T11:58:20.426Z"
   },
   {
    "duration": 2651,
    "start_time": "2025-01-13T13:33:50.635Z"
   },
   {
    "duration": 36,
    "start_time": "2025-01-13T13:33:53.288Z"
   },
   {
    "duration": 9,
    "start_time": "2025-01-13T13:33:53.326Z"
   },
   {
    "duration": 10,
    "start_time": "2025-01-13T13:33:53.337Z"
   },
   {
    "duration": 5,
    "start_time": "2025-01-13T13:33:53.350Z"
   },
   {
    "duration": 10,
    "start_time": "2025-01-13T13:33:54.735Z"
   },
   {
    "duration": 290,
    "start_time": "2025-01-13T13:33:54.914Z"
   },
   {
    "duration": 84,
    "start_time": "2025-01-13T13:33:55.298Z"
   },
   {
    "duration": 9,
    "start_time": "2025-01-13T13:33:56.347Z"
   },
   {
    "duration": 297,
    "start_time": "2025-01-13T13:33:56.568Z"
   },
   {
    "duration": 86,
    "start_time": "2025-01-13T13:33:57.014Z"
   },
   {
    "duration": 23,
    "start_time": "2025-01-13T13:33:57.784Z"
   },
   {
    "duration": 4,
    "start_time": "2025-01-13T13:33:58.402Z"
   },
   {
    "duration": 7,
    "start_time": "2025-01-13T13:33:58.630Z"
   },
   {
    "duration": 5,
    "start_time": "2025-01-13T13:33:58.829Z"
   },
   {
    "duration": 4,
    "start_time": "2025-01-13T13:33:59.254Z"
   },
   {
    "duration": 23,
    "start_time": "2025-01-13T13:33:59.685Z"
   },
   {
    "duration": 5,
    "start_time": "2025-01-13T13:34:00.547Z"
   },
   {
    "duration": 228,
    "start_time": "2025-01-13T13:36:34.228Z"
   },
   {
    "duration": 152,
    "start_time": "2025-01-13T13:36:43.472Z"
   },
   {
    "duration": 61,
    "start_time": "2025-01-13T13:37:30.174Z"
   },
   {
    "duration": 63,
    "start_time": "2025-01-13T13:37:51.952Z"
   },
   {
    "duration": 157,
    "start_time": "2025-01-13T13:37:53.956Z"
   },
   {
    "duration": 3,
    "start_time": "2025-01-13T13:38:30.772Z"
   },
   {
    "duration": 21,
    "start_time": "2025-01-13T13:38:32.148Z"
   },
   {
    "duration": 8,
    "start_time": "2025-01-13T13:38:32.448Z"
   },
   {
    "duration": 10,
    "start_time": "2025-01-13T13:38:32.704Z"
   },
   {
    "duration": 5,
    "start_time": "2025-01-13T13:38:32.883Z"
   },
   {
    "duration": 9,
    "start_time": "2025-01-13T13:38:33.460Z"
   },
   {
    "duration": 256,
    "start_time": "2025-01-13T13:38:33.611Z"
   },
   {
    "duration": 81,
    "start_time": "2025-01-13T13:38:34.195Z"
   },
   {
    "duration": 9,
    "start_time": "2025-01-13T13:38:34.766Z"
   },
   {
    "duration": 239,
    "start_time": "2025-01-13T13:38:34.943Z"
   },
   {
    "duration": 92,
    "start_time": "2025-01-13T13:38:35.278Z"
   },
   {
    "duration": 22,
    "start_time": "2025-01-13T13:38:36.382Z"
   },
   {
    "duration": 4,
    "start_time": "2025-01-13T13:38:37.379Z"
   },
   {
    "duration": 6,
    "start_time": "2025-01-13T13:38:37.582Z"
   },
   {
    "duration": 6,
    "start_time": "2025-01-13T13:38:38.431Z"
   },
   {
    "duration": 5,
    "start_time": "2025-01-13T13:38:39.314Z"
   },
   {
    "duration": 22,
    "start_time": "2025-01-13T13:38:39.733Z"
   },
   {
    "duration": 4,
    "start_time": "2025-01-13T13:38:40.340Z"
   },
   {
    "duration": 60,
    "start_time": "2025-01-13T13:38:41.205Z"
   },
   {
    "duration": 62,
    "start_time": "2025-01-13T13:38:41.805Z"
   },
   {
    "duration": 6,
    "start_time": "2025-01-13T13:39:45.139Z"
   },
   {
    "duration": 5,
    "start_time": "2025-01-13T13:39:45.483Z"
   },
   {
    "duration": 4,
    "start_time": "2025-01-13T13:39:45.746Z"
   },
   {
    "duration": 22,
    "start_time": "2025-01-13T13:39:46.251Z"
   },
   {
    "duration": 4,
    "start_time": "2025-01-13T13:39:46.616Z"
   },
   {
    "duration": 58,
    "start_time": "2025-01-13T13:39:47.137Z"
   },
   {
    "duration": 61,
    "start_time": "2025-01-13T13:39:47.349Z"
   },
   {
    "duration": 16,
    "start_time": "2025-01-13T13:39:49.217Z"
   },
   {
    "duration": 60,
    "start_time": "2025-01-13T13:40:23.069Z"
   },
   {
    "duration": 63,
    "start_time": "2025-01-13T13:41:01.482Z"
   },
   {
    "duration": 19,
    "start_time": "2025-01-13T13:43:11.586Z"
   },
   {
    "duration": 17,
    "start_time": "2025-01-13T13:43:18.859Z"
   },
   {
    "duration": 9,
    "start_time": "2025-01-13T13:43:28.181Z"
   },
   {
    "duration": 9,
    "start_time": "2025-01-13T13:43:38.564Z"
   },
   {
    "duration": 5,
    "start_time": "2025-01-13T13:43:39.180Z"
   },
   {
    "duration": 3,
    "start_time": "2025-01-13T13:43:39.525Z"
   },
   {
    "duration": 20,
    "start_time": "2025-01-13T13:43:39.830Z"
   },
   {
    "duration": 5,
    "start_time": "2025-01-13T13:43:40.321Z"
   },
   {
    "duration": 59,
    "start_time": "2025-01-13T13:43:40.846Z"
   },
   {
    "duration": 4,
    "start_time": "2025-01-13T13:44:41.688Z"
   },
   {
    "duration": 5,
    "start_time": "2025-01-13T13:44:42.096Z"
   },
   {
    "duration": 5,
    "start_time": "2025-01-13T13:44:43.189Z"
   },
   {
    "duration": 7,
    "start_time": "2025-01-13T13:45:39.055Z"
   },
   {
    "duration": 21,
    "start_time": "2025-01-13T13:45:40.304Z"
   },
   {
    "duration": 5,
    "start_time": "2025-01-13T13:45:42.371Z"
   },
   {
    "duration": 46,
    "start_time": "2025-01-13T13:45:43.994Z"
   },
   {
    "duration": 7,
    "start_time": "2025-01-13T13:47:12.288Z"
   },
   {
    "duration": 15,
    "start_time": "2025-01-13T13:47:13.237Z"
   },
   {
    "duration": 4,
    "start_time": "2025-01-13T13:47:13.854Z"
   },
   {
    "duration": 13,
    "start_time": "2025-01-13T13:47:14.359Z"
   },
   {
    "duration": 15,
    "start_time": "2025-01-13T13:49:39.998Z"
   },
   {
    "duration": 4,
    "start_time": "2025-01-13T13:49:40.905Z"
   },
   {
    "duration": 9,
    "start_time": "2025-01-13T13:49:41.596Z"
   },
   {
    "duration": 13,
    "start_time": "2025-01-13T13:59:07.478Z"
   },
   {
    "duration": 12,
    "start_time": "2025-01-13T13:59:16.648Z"
   },
   {
    "duration": 15,
    "start_time": "2025-01-13T13:59:35.555Z"
   },
   {
    "duration": 9,
    "start_time": "2025-01-13T13:59:58.839Z"
   },
   {
    "duration": 10,
    "start_time": "2025-01-13T14:00:14.496Z"
   },
   {
    "duration": 3,
    "start_time": "2025-01-13T14:01:23.417Z"
   },
   {
    "duration": 252,
    "start_time": "2025-01-13T14:31:06.510Z"
   },
   {
    "duration": 9,
    "start_time": "2025-01-13T14:35:31.973Z"
   },
   {
    "duration": 214,
    "start_time": "2025-01-13T14:35:41.397Z"
   },
   {
    "duration": 286,
    "start_time": "2025-01-13T14:37:31.328Z"
   },
   {
    "duration": 115,
    "start_time": "2025-01-13T14:38:42.284Z"
   },
   {
    "duration": 249,
    "start_time": "2025-01-13T14:39:39.862Z"
   },
   {
    "duration": 12,
    "start_time": "2025-01-13T14:46:48.525Z"
   },
   {
    "duration": 308,
    "start_time": "2025-01-13T14:46:54.814Z"
   },
   {
    "duration": 218,
    "start_time": "2025-01-13T14:47:14.754Z"
   },
   {
    "duration": 258,
    "start_time": "2025-01-13T14:47:39.204Z"
   },
   {
    "duration": 1258,
    "start_time": "2025-01-14T02:14:05.316Z"
   },
   {
    "duration": 29,
    "start_time": "2025-01-14T02:14:06.580Z"
   },
   {
    "duration": 9,
    "start_time": "2025-01-14T02:14:06.611Z"
   },
   {
    "duration": 31,
    "start_time": "2025-01-14T02:14:06.623Z"
   },
   {
    "duration": 14,
    "start_time": "2025-01-14T02:14:06.657Z"
   },
   {
    "duration": 10,
    "start_time": "2025-01-14T02:14:06.672Z"
   },
   {
    "duration": 341,
    "start_time": "2025-01-14T02:14:06.684Z"
   },
   {
    "duration": 120,
    "start_time": "2025-01-14T02:14:07.027Z"
   },
   {
    "duration": 11,
    "start_time": "2025-01-14T02:14:07.149Z"
   },
   {
    "duration": 303,
    "start_time": "2025-01-14T02:14:07.173Z"
   },
   {
    "duration": 135,
    "start_time": "2025-01-14T02:14:07.478Z"
   },
   {
    "duration": 41,
    "start_time": "2025-01-14T02:14:07.614Z"
   },
   {
    "duration": 5,
    "start_time": "2025-01-14T02:14:07.657Z"
   },
   {
    "duration": 7,
    "start_time": "2025-01-14T02:14:07.668Z"
   },
   {
    "duration": 5,
    "start_time": "2025-01-14T02:14:07.679Z"
   },
   {
    "duration": 12,
    "start_time": "2025-01-14T02:14:07.687Z"
   },
   {
    "duration": 37,
    "start_time": "2025-01-14T02:14:07.701Z"
   },
   {
    "duration": 20,
    "start_time": "2025-01-14T02:14:07.752Z"
   },
   {
    "duration": 17,
    "start_time": "2025-01-14T02:14:07.774Z"
   },
   {
    "duration": 411,
    "start_time": "2025-01-14T02:14:07.795Z"
   },
   {
    "duration": 41162,
    "start_time": "2025-01-14T02:14:08.208Z"
   },
   {
    "duration": 347,
    "start_time": "2025-01-14T02:14:49.380Z"
   },
   {
    "duration": 383,
    "start_time": "2025-01-14T02:14:49.730Z"
   },
   {
    "duration": 316,
    "start_time": "2025-01-14T02:14:50.115Z"
   },
   {
    "duration": 2845,
    "start_time": "2025-01-14T05:17:40.925Z"
   },
   {
    "duration": 20,
    "start_time": "2025-01-14T05:17:43.829Z"
   },
   {
    "duration": 8,
    "start_time": "2025-01-14T05:17:43.851Z"
   },
   {
    "duration": 11,
    "start_time": "2025-01-14T05:17:43.862Z"
   },
   {
    "duration": 6,
    "start_time": "2025-01-14T05:17:43.875Z"
   },
   {
    "duration": 11,
    "start_time": "2025-01-14T05:17:44.415Z"
   },
   {
    "duration": 341,
    "start_time": "2025-01-14T05:17:44.599Z"
   },
   {
    "duration": 89,
    "start_time": "2025-01-14T05:17:45.004Z"
   },
   {
    "duration": 9,
    "start_time": "2025-01-14T05:17:45.534Z"
   },
   {
    "duration": 312,
    "start_time": "2025-01-14T05:17:45.724Z"
   },
   {
    "duration": 95,
    "start_time": "2025-01-14T05:17:46.116Z"
   },
   {
    "duration": 24,
    "start_time": "2025-01-14T05:17:47.104Z"
   },
   {
    "duration": 4,
    "start_time": "2025-01-14T05:17:47.673Z"
   },
   {
    "duration": 5,
    "start_time": "2025-01-14T05:17:47.851Z"
   },
   {
    "duration": 5,
    "start_time": "2025-01-14T05:17:48.049Z"
   },
   {
    "duration": 8,
    "start_time": "2025-01-14T05:17:48.251Z"
   },
   {
    "duration": 31,
    "start_time": "2025-01-14T05:17:49.047Z"
   },
   {
    "duration": 5,
    "start_time": "2025-01-14T05:17:49.599Z"
   },
   {
    "duration": 86,
    "start_time": "2025-01-14T05:17:50.184Z"
   },
   {
    "duration": 252,
    "start_time": "2025-01-14T05:17:50.581Z"
   }
  ],
  "kernelspec": {
   "display_name": "Python 3 (ipykernel)",
   "language": "python",
   "name": "python3"
  },
  "language_info": {
   "codemirror_mode": {
    "name": "ipython",
    "version": 3
   },
   "file_extension": ".py",
   "mimetype": "text/x-python",
   "name": "python",
   "nbconvert_exporter": "python",
   "pygments_lexer": "ipython3",
   "version": "3.9.19"
  },
  "toc": {
   "base_numbering": 1,
   "nav_menu": {},
   "number_sections": true,
   "sideBar": true,
   "skip_h1_title": true,
   "title_cell": "Table of Contents",
   "title_sidebar": "Contents",
   "toc_cell": false,
   "toc_position": {},
   "toc_section_display": true,
   "toc_window_display": false
  }
 },
 "nbformat": 4,
 "nbformat_minor": 2
}
